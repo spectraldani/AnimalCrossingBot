{
 "cells": [
  {
   "cell_type": "code",
   "execution_count": 3,
   "metadata": {},
   "outputs": [],
   "source": [
    "import json\n",
    "\n",
    "import pandas as pd\n",
    "\n",
    "data = pd.read_excel('./data.xlsx', sheet_name=None)\n",
    "\n",
    "exports = [\n",
    "    'Housewares', 'Miscellaneous', 'Wall-mounted', 'Wallpaper', 'Floors',\n",
    "    'Rugs', 'Photos', 'Posters', 'Tools', 'Fencing', 'Tops', 'Bottoms',\n",
    "    'Dress-Up', 'Headwear', 'Accessories', 'Socks', 'Shoes', 'Bags',\n",
    "    'Umbrellas', 'Music', 'Recipes', 'Other', 'Art'\n",
    "]\n",
    "\n",
    "for cat in exports:\n",
    "    data[cat] = data[cat].set_index('Unique Entry ID', drop=False)"
   ]
  },
  {
   "cell_type": "code",
   "execution_count": 4,
   "outputs": [],
   "source": [
    "with open('./recipe_by_material_name.json','w',encoding='utf-8') as f:\n",
    "    json.dump({\n",
    "        k:v.tolist()\n",
    "        for k,v in\n",
    "        pd.concat([\n",
    "            data['Recipes'][f'Material {i+1}'].dropna()\n",
    "            for i in range(6)\n",
    "        ], axis=0).to_frame(0).groupby(0).groups.items()\n",
    "    }, f)"
   ],
   "metadata": {
    "collapsed": false,
    "pycharm": {
     "name": "#%%\n"
    }
   }
  },
  {
   "cell_type": "code",
   "execution_count": 5,
   "metadata": {},
   "outputs": [],
   "source": [
    "def group_by(cat, attr):\n",
    "    return [{'attr':k, 'id':v.tolist()} for k,v in data[cat].groupby(attr).groups.items()]\n",
    "\n",
    "with open('./data_by_name.json','w',encoding='utf-8') as f:\n",
    "    json.dump({cat:group_by(cat,'Name') for cat in exports},f)"
   ]
  },
  {
   "cell_type": "code",
   "execution_count": 6,
   "metadata": {},
   "outputs": [],
   "source": [
    "with open('./data.json','w',encoding='utf-8') as f:\n",
    "    f.write('{')\n",
    "    for i, cat in enumerate(exports):\n",
    "        f.write('\\t\"'+cat+'\": ')\n",
    "        f.write(data[cat].to_json(orient='index'))\n",
    "        if i+1 < len(exports):\n",
    "            f.write(',')\n",
    "        f.write('\\n')\n",
    "    f.write('}')"
   ]
  },
  {
   "cell_type": "code",
   "execution_count": 7,
   "outputs": [],
   "source": [
    "def normalize_recipe(recipe):\n",
    "    return dict(\n",
    "        Name=recipe.name,\n",
    "        Materials=[\n",
    "            {'amount': material.iloc[0], 'material': material.iloc[1]}\n",
    "            for material in\n",
    "            (recipe[[f'#{i+1}', f'Material {i+1}']] for i in range(6))\n",
    "            if not material.isna().all()\n",
    "        ],\n",
    "    **recipe.iloc[12:].where(pd.notnull(recipe.iloc[12:]),None)\n",
    "    )\n",
    "\n",
    "def nest(d: dict) -> dict:\n",
    "    result = {}\n",
    "    for key, value in d.items():\n",
    "        target = result\n",
    "        for k in key[:-1]:  # traverse all keys but the last\n",
    "            target = target.setdefault(k, {})\n",
    "        target[key[-1]] = value\n",
    "    return result\n",
    "\n",
    "recipes_frame = data['Recipes'].set_index(['Category','Name']).apply(normalize_recipe, axis=1)\n",
    "with open('./recipes.json','w',encoding='utf-8') as f:\n",
    "    json.dump(nest(recipes_frame.to_dict()),f)\n"
   ],
   "metadata": {
    "collapsed": false,
    "pycharm": {
     "name": "#%%\n"
    }
   }
  }
 ],
 "metadata": {
  "kernelspec": {
   "display_name": "Python 3",
   "language": "python",
   "name": "python3"
  },
  "language_info": {
   "codemirror_mode": {
    "name": "ipython",
    "version": 3
   },
   "file_extension": ".py",
   "mimetype": "text/x-python",
   "name": "python",
   "nbconvert_exporter": "python",
   "pygments_lexer": "ipython3",
   "version": "3.7.4"
  }
 },
 "nbformat": 4,
 "nbformat_minor": 4
}